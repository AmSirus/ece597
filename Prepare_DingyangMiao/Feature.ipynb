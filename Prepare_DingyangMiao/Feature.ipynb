{
 "cells": [
  {
   "cell_type": "code",
   "execution_count": 1,
   "metadata": {},
   "outputs": [],
   "source": [
    "import pandas as pd\n",
    "df = pd.read_csv(r'D:\\Downloads\\597-data\\final_df.csv')"
   ]
  },
  {
   "cell_type": "code",
   "execution_count": 2,
   "metadata": {},
   "outputs": [],
   "source": [
    "spam_texts = df[df['Result'] == 1]['Text']\n",
    "spam_texts = spam_texts.dropna().astype(str)\n",
    "normal_texts = df[df['Result'] == 0]['Text']\n",
    "normal_texts = normal_texts.dropna().astype(str)"
   ]
  },
  {
   "cell_type": "code",
   "execution_count": 31,
   "metadata": {},
   "outputs": [
    {
     "name": "stdout",
     "output_type": "stream",
     "text": [
      "['access' 'account' 'address' 'amount' 'bank' 'best' 'business' 'canada'\n",
      " 'cautious' 'click' 'confirm' 'contact' 'customer' 'date' 'day' 'dear'\n",
      " 'delivery' 'detail' 'document' 'due' 'email' 'file' 'full' 'fund' 'get'\n",
      " 'good' 'hello' 'help' 'hi' 'hour' 'id' 'information' 'invoice' 'keep'\n",
      " 'kindly' 'know' 'link' 'mail' 'mailbox' 'may' 'message' 'money' 'mr'\n",
      " 'name' 'need' 'new' 'note' 'notice' 'notification' 'number' 'order'\n",
      " 'outlook' 'outside' 'package' 'parcel' 'password' 'payment' 'please' 'pm'\n",
      " 'privacy' 'receive' 'received' 'regard' 'reply' 'request' 'required'\n",
      " 'reserved' 'review' 'right' 'security' 'send' 'sensitive' 'sent' 'server'\n",
      " 'service' 'spam' 'support' 'suspected' 'system' 'take' 'team' 'thank'\n",
      " 'thanks' 'time' 'transaction' 'united' 'university' 'update' 'upgrade'\n",
      " 'ups' 'use' 'uvic' 'uvicca' 'victoria' 'want' 'within' 'work' 'would'\n",
      " 'year' 'you']\n"
     ]
    }
   ],
   "source": [
    "from sklearn.feature_extraction.text import TfidfVectorizer\n",
    "\n",
    "# TF-IDF\n",
    "tfidf_vectorizer = TfidfVectorizer(max_features=100)\n",
    "tfidf_matrix = tfidf_vectorizer.fit_transform(spam_texts)\n",
    "spam_names = tfidf_vectorizer.get_feature_names_out()\n",
    "\n",
    "print(spam_names)"
   ]
  },
  {
   "cell_type": "code",
   "execution_count": 30,
   "metadata": {},
   "outputs": [
    {
     "name": "stdout",
     "output_type": "stream",
     "text": [
      "['able' 'access' 'account' 'action' 'activity' 'addition' 'additional'\n",
      " 'address' 'agreement' 'already' 'also' 'america' 'american' 'amount'\n",
      " 'amto' 'analyst' 'another' 'anything' 'application' 'approval' 'april'\n",
      " 'are' 'area' 'around' 'asked' 'asset' 'attached' 'august' 'available'\n",
      " 'back' 'bank' 'based' 'basis' 'believe' 'best' 'better' 'big' 'bill'\n",
      " 'billion' 'board' 'bob' 'book' 'business' 'buy' 'ca' 'california' 'call'\n",
      " 'capacity' 'capital' 'case' 'cash' 'cc' 'center' 'chairman' 'change'\n",
      " 'charge' 'charsetusasciicontenttransferencoding' 'check' 'chief' 'chris'\n",
      " 'city' 'click' 'close' 'co' 'come' 'comment' 'commission' 'committee'\n",
      " 'communication' 'company' 'complete' 'concern' 'conference'\n",
      " 'confidential' 'consumer' 'contact' 'contenttype' 'continue' 'contract'\n",
      " 'control' 'copy' 'corp' 'corporate' 'cost' 'could' 'court' 'credit'\n",
      " 'current' 'currently' 'customer' 'daily' 'dan' 'data' 'date' 'david'\n",
      " 'davis' 'day' 'deal' 'december' 'decision' 'delivery' 'demand'\n",
      " 'department' 'desk' 'detail' 'development' 'direct' 'director' 'discus'\n",
      " 'discussion' 'distribution' 'document' 'done' 'dont' 'dow' 'draft' 'due'\n",
      " 'early' 'eb' 'edison' 'effort' 'either' 'electric' 'electricity' 'email'\n",
      " 'employee' 'ena' 'end' 'energy' 'enron' 'enrons' 'entity' 'eric' 'error'\n",
      " 'even' 'event' 'every' 'exchange' 'executive' 'expected' 'facility' 'fax'\n",
      " 'february' 'federal' 'feel' 'ferc' 'file' 'final' 'financial' 'find'\n",
      " 'firm' 'first' 'following' 'form' 'forward' 'forwarded' 'found' 'frank'\n",
      " 'free' 'friday' 'full' 'fund' 'future' 'fw' 'game' 'gas' 'general'\n",
      " 'generation' 'generator' 'george' 'get' 'getting' 'give' 'given' 'global'\n",
      " 'go' 'going' 'good' 'got' 'government' 'governor' 'great' 'greg' 'group'\n",
      " 'help' 'high' 'home' 'hope' 'hour' 'house' 'houston' 'however' 'id' 'ill'\n",
      " 'im' 'image' 'impact' 'important' 'inc' 'include' 'including' 'increase'\n",
      " 'individual' 'industry' 'information' 'intended' 'interest'\n",
      " 'international' 'internet' 'investment' 'investor' 'iso' 'issue' 'james'\n",
      " 'jan' 'january' 'jeff' 'jeffrey' 'jennifer' 'jim' 'job' 'joe' 'john'\n",
      " 'jones' 'july' 'june' 'karen' 'kay' 'keep' 'ken' 'kevin' 'know' 'larry'\n",
      " 'last' 'later' 'law' 'lay' 'le' 'legal' 'let' 'letter' 'level' 'like'\n",
      " 'linda' 'line' 'link' 'lisa' 'list' 'little' 'london' 'long' 'look'\n",
      " 'looking' 'made' 'mail' 'make' 'management' 'many' 'march' 'mark'\n",
      " 'market' 'marketing' 'mary' 'master' 'may' 'meet' 'meeting' 'member'\n",
      " 'message' 'messagefrom' 'michael' 'might' 'mike' 'million' 'mimeversion'\n",
      " 'monday' 'money' 'month' 'morning' 'move' 'mr' 'much' 'must' 'name'\n",
      " 'natural' 'need' 'network' 'new' 'news' 'next' 'night' 'north' 'note'\n",
      " 'notice' 'november' 'number' 'october' 'offer' 'office' 'official' 'oil'\n",
      " 'one' 'online' 'open' 'operation' 'opportunity' 'option' 'order'\n",
      " 'original' 'page' 'part' 'party' 'past' 'paul' 'pay' 'payment' 'people'\n",
      " 'per' 'percent' 'period' 'person' 'peter' 'pge' 'phone' 'pipeline'\n",
      " 'place' 'plan' 'plant' 'please' 'pm' 'pmto' 'point' 'policy' 'position'\n",
      " 'possible' 'power' 'presentation' 'president' 'price' 'prior' 'problem'\n",
      " 'process' 'product' 'program' 'project' 'proposal' 'proposed' 'provide'\n",
      " 'provided' 'public' 'purchase' 'put' 'question' 'rate' 'really' 'receive'\n",
      " 'received' 'recipient' 'regarding' 'regulatory' 'report' 'request'\n",
      " 'required' 'research' 'resource' 'response' 'result' 'return' 'review'\n",
      " 'richard' 'rick' 'right' 'risk' 'robert' 'rule' 'run' 'said' 'sale' 'san'\n",
      " 'sara' 'sat' 'say' 'schedule' 'scheduled' 'scott' 'second' 'section'\n",
      " 'security' 'see' 'sell' 'send' 'sent' 'september' 'service' 'set'\n",
      " 'several' 'shall' 'share' 'short' 'show' 'since' 'site' 'smith' 'soon'\n",
      " 'source' 'special' 'st' 'staff' 'standard' 'start' 'state' 'steve'\n",
      " 'steven' 'still' 'stock' 'street' 'subject' 'summer' 'supply' 'support'\n",
      " 'sure' 'susan' 'system' 'take' 'talk' 'tax' 'taylor' 'team' 'technology'\n",
      " 'term' 'texas' 'textplain' 'th' 'thank' 'thanks' 'thing' 'think' 'thomas'\n",
      " 'thought' 'three' 'thru' 'thursday' 'tim' 'time' 'today' 'told' 'tom'\n",
      " 'tomorrow' 'top' 'total' 'trade' 'trader' 'trading' 'transaction'\n",
      " 'transmission' 'try' 'tuesday' 'two' 'unit' 'update' 'updated' 'use'\n",
      " 'used' 'user' 'using' 'utility' 'value' 'version' 'via' 'view' 'vince'\n",
      " 'visit' 'volume' 'want' 'way' 'web' 'wednesday' 'week' 'well' 'west'\n",
      " 'whether' 'wholesale' 'william' 'williams' 'within' 'without' 'work'\n",
      " 'working' 'world' 'would' 'xbcc' 'xcc' 'xfolder' 'xorigin' 'xto' 'year'\n",
      " 'yesterday' 'yet' 'york' 'you']\n"
     ]
    }
   ],
   "source": [
    "tfidf_vectorizer2 = TfidfVectorizer(max_features=500)\n",
    "tfidf_matrix2 = tfidf_vectorizer2.fit_transform(normal_texts)\n",
    "feature_names = tfidf_vectorizer2.get_feature_names_out()\n",
    "print(feature_names)"
   ]
  },
  {
   "cell_type": "code",
   "execution_count": 7,
   "metadata": {},
   "outputs": [
    {
     "name": "stdout",
     "output_type": "stream",
     "text": [
      "['email', 'please', 'message', 'information', 'sent', 'account', 'link', 'university', 'notice', 'victoria', 'system', 'outside', 'sensitive', 'cautious', 'service', 'payment', 'dear', 'password', 'contact', 'update', 'you', 'address', 'reply', 'uvicca', 'detail', 'mail', 'delivery', 'hello', 'fund', 'regard', 'mailbox', 'new', 'thank', 'bank', 'receive', 'order', 'may', 'click', 'day', 'help', 'need', 'uvic', 'upgrade', 'number', 'team', 'right', 'spam', 'support', 'use', 'name', 'received', 'document', 'time', 'request', 'customer', 'hour', 'kindly', 'outlook', 'notification', 'date', 'know', 'required', 'note', 'suspected', 'business', 'year', 'mr', 'get', 'parcel', 'due', 'canada', 'thanks', 'ups', 'good', 'reserved', 'hi', 'security', 'privacy', 'money', 'review', 'full', 'transaction', 'best', 'invoice', 'within', 'confirm', 'access', 'id', 'want', 'united', 'server', 'package', 'work', 'send', 'take', 'file', 'amount', 'pm', 'keep', 'would']\n",
      "[-0.28276008  0.8347552  -0.33950058  0.04831413  0.0689871  -0.91377175\n",
      "  0.74487615  1.588951   -0.609291   -0.74161804 -0.15261675 -1.365206\n",
      " -0.419022    0.25809428  0.15461074 -0.41704342  0.24626085 -0.8621842\n",
      " -0.32886064 -1.8796983   0.8205721   0.07869841  0.4398259  -0.28990942\n",
      "  0.1518079  -0.1087801  -0.64828116 -0.08742237 -0.97654945  0.32314673\n",
      "  0.12826931  0.39341938  0.11667711 -0.5706898  -0.3228498   0.63194335\n",
      "  0.04496901 -0.28649598 -0.5662831  -0.88972884  0.879419   -0.9043825\n",
      " -0.5640661   0.3797241   0.5083765  -0.25538817 -0.36323974 -0.14709345\n",
      "  0.6520271   0.8648998   0.3475828  -0.4864886  -0.04559834 -0.6336673\n",
      " -0.9254278   0.01421732  0.33431762  0.07820733 -0.5287292   0.15420327\n",
      "  0.07630365  0.25022462  0.06413573  0.10576412 -0.6376178   1.0714475\n",
      "  0.37512016  0.60574913 -1.2210082   0.7258353  -0.17458159  0.4563422\n",
      "  0.38023773 -0.40333125  0.7588841   0.1674342   0.05394589 -0.28325018\n",
      " -0.4248039  -0.06083819 -0.5981492  -0.21005563 -0.7394608   0.6966814\n",
      " -0.3327385  -0.0434726   0.09813764  0.73606575  0.72843385 -0.12380688\n",
      "  1.0223631   0.5738456   0.27513117  0.3450856   1.43097     0.9971464\n",
      "  0.6640857  -0.7257616   0.1844601  -0.13599725]\n"
     ]
    }
   ],
   "source": [
    "from gensim.models import Word2Vec\n",
    "import numpy as np\n",
    "\n",
    "spam_sentences = [text.split() for text in spam_texts]\n",
    "\n",
    "spam_model = Word2Vec(spam_sentences, vector_size=100, window=5, min_count=1, workers=4)\n",
    "spam_vocab = list(spam_model.wv.index_to_key)\n",
    "\n",
    "print(spam_vocab[:100])\n",
    "\n",
    "def compute_avg_vector(vocab, model):\n",
    "    vectors = [model.wv[word] for word in vocab if word in model.wv]\n",
    "    return np.mean(vectors, axis=0)\n",
    "\n",
    "avg_vector = compute_avg_vector(spam_vocab[:100], spam_model)\n",
    "print(avg_vector)\n"
   ]
  },
  {
   "cell_type": "code",
   "execution_count": 33,
   "metadata": {},
   "outputs": [
    {
     "name": "stdout",
     "output_type": "stream",
     "text": [
      "['enron', 'email', 'would', 'subject', 'please', 'power', 'pm', 'energy', 'company', 'new', 'may', 'said', 'time', 'market', 'gas', 'price', 'know', 'need', 'you', 'get', 'sent', 'one', 'also', 'day', 'information', 'state', 'year', 'service', 'deal', 'john', 'call', 'week', 'mark', 'forwarded', 'business', 'pmto', 'california', 'original', 'like', 'j', 'let', 'agreement', 'contract', 'meeting', 'message', 'messagefrom', 'could', 'change', 'group', 'last', 'make', 'see', 'issue', 'report', 'cc', 'question', 'amto', 'david', 'xfolder', 'work', 'corp', 'rate', 'want', 'system', 'use', 'trading', 'million', 'date', 'jeff', 'utility', 'bill', 'two', 'customer', 'well', 'number', 'go', 'think', 'take', 'plan', 'contact', 'today', 'image', 'attached', 'next', 'houston', 'back', 'first', 'l', 'credit', 'monday', 'right', 'cost', 'friday', 'mike', 'michael', 'month', 'order', 'dont', 'c', 'going']\n"
     ]
    }
   ],
   "source": [
    "normal_sentences = [text.split() for text in normal_texts]\n",
    "\n",
    "normal_model = Word2Vec(normal_sentences, vector_size=100, window=5, min_count=1, workers=4)\n",
    "normal_vocab = list(normal_model.wv.index_to_key)\n",
    "print(normal_vocab[:100])"
   ]
  }
 ],
 "metadata": {
  "kernelspec": {
   "display_name": "base",
   "language": "python",
   "name": "python3"
  },
  "language_info": {
   "codemirror_mode": {
    "name": "ipython",
    "version": 3
   },
   "file_extension": ".py",
   "mimetype": "text/x-python",
   "name": "python",
   "nbconvert_exporter": "python",
   "pygments_lexer": "ipython3",
   "version": "3.11.7"
  }
 },
 "nbformat": 4,
 "nbformat_minor": 2
}
