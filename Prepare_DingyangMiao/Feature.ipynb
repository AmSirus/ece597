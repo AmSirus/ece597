{
 "cells": [
  {
   "cell_type": "code",
   "execution_count": 1,
   "metadata": {},
   "outputs": [],
   "source": [
    "import pandas as pd\n",
    "df = pd.read_csv(r'D:\\Downloads\\597-data\\final_df.csv')"
   ]
  },
  {
   "cell_type": "code",
   "execution_count": 2,
   "metadata": {},
   "outputs": [
    {
     "name": "stdout",
     "output_type": "stream",
     "text": [
      "<class 'pandas.core.frame.DataFrame'>\n",
      "RangeIndex: 519977 entries, 0 to 519976\n",
      "Data columns (total 2 columns):\n",
      " #   Column  Non-Null Count   Dtype \n",
      "---  ------  --------------   ----- \n",
      " 0   Text    518920 non-null  object\n",
      " 1   Result  519977 non-null  int64 \n",
      "dtypes: int64(1), object(1)\n",
      "memory usage: 7.9+ MB\n",
      "None\n",
      "                                                     Text  Result\n",
      "0                                                forecast       0\n",
      "1       traveling business meeting take fun trip espec...       0\n",
      "2                             test test successful way go       0\n",
      "3       randy send schedule salary level everyone sche...       0\n",
      "4                                 hello let shoot tuesday       0\n",
      "...                                                   ...     ...\n",
      "519967  confirm dear user incoming email placed hold d...       1\n",
      "519968  hello interested working home personal assista...       1\n",
      "519969  info hello email account deactivated shortly s...       1\n",
      "519970  proposal agriculture ref mrthemba mthembu emai...       1\n",
      "519971                                                NaN       1\n",
      "\n",
      "[519972 rows x 2 columns]\n"
     ]
    }
   ],
   "source": [
    "print(df.info())\n",
    "print(df.head(-5))"
   ]
  },
  {
   "cell_type": "code",
   "execution_count": 31,
   "metadata": {},
   "outputs": [
    {
     "name": "stdout",
     "output_type": "stream",
     "text": [
      "['access' 'account' 'address' 'amount' 'bank' 'best' 'business' 'canada'\n",
      " 'cautious' 'click' 'confirm' 'contact' 'customer' 'date' 'day' 'dear'\n",
      " 'delivery' 'detail' 'document' 'due' 'email' 'file' 'full' 'fund' 'get'\n",
      " 'good' 'hello' 'help' 'hi' 'hour' 'id' 'information' 'invoice' 'keep'\n",
      " 'kindly' 'know' 'link' 'mail' 'mailbox' 'may' 'message' 'money' 'mr'\n",
      " 'name' 'need' 'new' 'note' 'notice' 'notification' 'number' 'order'\n",
      " 'outlook' 'outside' 'package' 'parcel' 'password' 'payment' 'please' 'pm'\n",
      " 'privacy' 'receive' 'received' 'regard' 'reply' 'request' 'required'\n",
      " 'reserved' 'review' 'right' 'security' 'send' 'sensitive' 'sent' 'server'\n",
      " 'service' 'spam' 'support' 'suspected' 'system' 'take' 'team' 'thank'\n",
      " 'thanks' 'time' 'transaction' 'united' 'university' 'update' 'upgrade'\n",
      " 'ups' 'use' 'uvic' 'uvicca' 'victoria' 'want' 'within' 'work' 'would'\n",
      " 'year' 'you']\n"
     ]
    }
   ],
   "source": [
    "from sklearn.feature_extraction.text import TfidfVectorizer\n",
    "\n",
    "spam_texts = df[df['Result'] == 1]['Text']\n",
    "spam_texts = spam_texts.dropna().astype(str)\n",
    "\n",
    "# TF-IDF\n",
    "tfidf_vectorizer = TfidfVectorizer(max_features=100)\n",
    "tfidf_matrix = tfidf_vectorizer.fit_transform(spam_texts)\n",
    "spam_names = tfidf_vectorizer.get_feature_names_out()\n",
    "\n",
    "print(spam_names)"
   ]
  },
  {
   "cell_type": "code",
   "execution_count": 30,
   "metadata": {},
   "outputs": [
    {
     "name": "stdout",
     "output_type": "stream",
     "text": [
      "['able' 'access' 'account' 'action' 'activity' 'addition' 'additional'\n",
      " 'address' 'agreement' 'already' 'also' 'america' 'american' 'amount'\n",
      " 'amto' 'analyst' 'another' 'anything' 'application' 'approval' 'april'\n",
      " 'are' 'area' 'around' 'asked' 'asset' 'attached' 'august' 'available'\n",
      " 'back' 'bank' 'based' 'basis' 'believe' 'best' 'better' 'big' 'bill'\n",
      " 'billion' 'board' 'bob' 'book' 'business' 'buy' 'ca' 'california' 'call'\n",
      " 'capacity' 'capital' 'case' 'cash' 'cc' 'center' 'chairman' 'change'\n",
      " 'charge' 'charsetusasciicontenttransferencoding' 'check' 'chief' 'chris'\n",
      " 'city' 'click' 'close' 'co' 'come' 'comment' 'commission' 'committee'\n",
      " 'communication' 'company' 'complete' 'concern' 'conference'\n",
      " 'confidential' 'consumer' 'contact' 'contenttype' 'continue' 'contract'\n",
      " 'control' 'copy' 'corp' 'corporate' 'cost' 'could' 'court' 'credit'\n",
      " 'current' 'currently' 'customer' 'daily' 'dan' 'data' 'date' 'david'\n",
      " 'davis' 'day' 'deal' 'december' 'decision' 'delivery' 'demand'\n",
      " 'department' 'desk' 'detail' 'development' 'direct' 'director' 'discus'\n",
      " 'discussion' 'distribution' 'document' 'done' 'dont' 'dow' 'draft' 'due'\n",
      " 'early' 'eb' 'edison' 'effort' 'either' 'electric' 'electricity' 'email'\n",
      " 'employee' 'ena' 'end' 'energy' 'enron' 'enrons' 'entity' 'eric' 'error'\n",
      " 'even' 'event' 'every' 'exchange' 'executive' 'expected' 'facility' 'fax'\n",
      " 'february' 'federal' 'feel' 'ferc' 'file' 'final' 'financial' 'find'\n",
      " 'firm' 'first' 'following' 'form' 'forward' 'forwarded' 'found' 'frank'\n",
      " 'free' 'friday' 'full' 'fund' 'future' 'fw' 'game' 'gas' 'general'\n",
      " 'generation' 'generator' 'george' 'get' 'getting' 'give' 'given' 'global'\n",
      " 'go' 'going' 'good' 'got' 'government' 'governor' 'great' 'greg' 'group'\n",
      " 'help' 'high' 'home' 'hope' 'hour' 'house' 'houston' 'however' 'id' 'ill'\n",
      " 'im' 'image' 'impact' 'important' 'inc' 'include' 'including' 'increase'\n",
      " 'individual' 'industry' 'information' 'intended' 'interest'\n",
      " 'international' 'internet' 'investment' 'investor' 'iso' 'issue' 'james'\n",
      " 'jan' 'january' 'jeff' 'jeffrey' 'jennifer' 'jim' 'job' 'joe' 'john'\n",
      " 'jones' 'july' 'june' 'karen' 'kay' 'keep' 'ken' 'kevin' 'know' 'larry'\n",
      " 'last' 'later' 'law' 'lay' 'le' 'legal' 'let' 'letter' 'level' 'like'\n",
      " 'linda' 'line' 'link' 'lisa' 'list' 'little' 'london' 'long' 'look'\n",
      " 'looking' 'made' 'mail' 'make' 'management' 'many' 'march' 'mark'\n",
      " 'market' 'marketing' 'mary' 'master' 'may' 'meet' 'meeting' 'member'\n",
      " 'message' 'messagefrom' 'michael' 'might' 'mike' 'million' 'mimeversion'\n",
      " 'monday' 'money' 'month' 'morning' 'move' 'mr' 'much' 'must' 'name'\n",
      " 'natural' 'need' 'network' 'new' 'news' 'next' 'night' 'north' 'note'\n",
      " 'notice' 'november' 'number' 'october' 'offer' 'office' 'official' 'oil'\n",
      " 'one' 'online' 'open' 'operation' 'opportunity' 'option' 'order'\n",
      " 'original' 'page' 'part' 'party' 'past' 'paul' 'pay' 'payment' 'people'\n",
      " 'per' 'percent' 'period' 'person' 'peter' 'pge' 'phone' 'pipeline'\n",
      " 'place' 'plan' 'plant' 'please' 'pm' 'pmto' 'point' 'policy' 'position'\n",
      " 'possible' 'power' 'presentation' 'president' 'price' 'prior' 'problem'\n",
      " 'process' 'product' 'program' 'project' 'proposal' 'proposed' 'provide'\n",
      " 'provided' 'public' 'purchase' 'put' 'question' 'rate' 'really' 'receive'\n",
      " 'received' 'recipient' 'regarding' 'regulatory' 'report' 'request'\n",
      " 'required' 'research' 'resource' 'response' 'result' 'return' 'review'\n",
      " 'richard' 'rick' 'right' 'risk' 'robert' 'rule' 'run' 'said' 'sale' 'san'\n",
      " 'sara' 'sat' 'say' 'schedule' 'scheduled' 'scott' 'second' 'section'\n",
      " 'security' 'see' 'sell' 'send' 'sent' 'september' 'service' 'set'\n",
      " 'several' 'shall' 'share' 'short' 'show' 'since' 'site' 'smith' 'soon'\n",
      " 'source' 'special' 'st' 'staff' 'standard' 'start' 'state' 'steve'\n",
      " 'steven' 'still' 'stock' 'street' 'subject' 'summer' 'supply' 'support'\n",
      " 'sure' 'susan' 'system' 'take' 'talk' 'tax' 'taylor' 'team' 'technology'\n",
      " 'term' 'texas' 'textplain' 'th' 'thank' 'thanks' 'thing' 'think' 'thomas'\n",
      " 'thought' 'three' 'thru' 'thursday' 'tim' 'time' 'today' 'told' 'tom'\n",
      " 'tomorrow' 'top' 'total' 'trade' 'trader' 'trading' 'transaction'\n",
      " 'transmission' 'try' 'tuesday' 'two' 'unit' 'update' 'updated' 'use'\n",
      " 'used' 'user' 'using' 'utility' 'value' 'version' 'via' 'view' 'vince'\n",
      " 'visit' 'volume' 'want' 'way' 'web' 'wednesday' 'week' 'well' 'west'\n",
      " 'whether' 'wholesale' 'william' 'williams' 'within' 'without' 'work'\n",
      " 'working' 'world' 'would' 'xbcc' 'xcc' 'xfolder' 'xorigin' 'xto' 'year'\n",
      " 'yesterday' 'yet' 'york' 'you']\n"
     ]
    }
   ],
   "source": [
    "normal_texts = df[df['Result'] == 0]['Text']\n",
    "normal_texts = normal_texts.dropna().astype(str)\n",
    "\n",
    "tfidf_vectorizer2 = TfidfVectorizer(max_features=500)\n",
    "tfidf_matrix2 = tfidf_vectorizer2.fit_transform(normal_texts)\n",
    "feature_names = tfidf_vectorizer2.get_feature_names_out()\n",
    "print(feature_names)\n"
   ]
  },
  {
   "cell_type": "code",
   "execution_count": 32,
   "metadata": {},
   "outputs": [
    {
     "name": "stdout",
     "output_type": "stream",
     "text": [
      "['email', 'please', 'message', 'information', 'sent', 'account', 'link', 'university', 'notice', 'victoria', 'system', 'outside', 'sensitive', 'cautious', 'service', 'payment', 'dear', 'password', 'contact', 'update', 'you', 'address', 'reply', 'uvicca', 'detail', 'mail', 'delivery', 'hello', 'fund', 'regard', 'mailbox', 'new', 'thank', 'bank', 'receive', 'order', 'may', 'click', 'day', 'help', 'need', 'uvic', 'upgrade', 'number', 'team', 'right', 'spam', 'support', 'use', 'name', 'received', 'document', 'time', 'request', 'customer', 'hour', 'kindly', 'outlook', 'notification', 'date', 'know', 'required', 'note', 'suspected', 'business', 'year', 'mr', 'get', 'parcel', 'due', 'canada', 'thanks', 'ups', 'good', 'reserved', 'hi', 'security', 'privacy', 'money', 'review', 'full', 'transaction', 'best', 'invoice', 'within', 'confirm', 'access', 'id', 'want', 'united', 'server', 'package', 'work', 'send', 'take', 'file', 'amount', 'pm', 'keep', 'would']\n"
     ]
    }
   ],
   "source": [
    "from gensim.models import Word2Vec\n",
    "\n",
    "spam_sentences = [text.split() for text in spam_texts]\n",
    "\n",
    "spam_model = Word2Vec(spam_sentences, vector_size=100, window=5, min_count=1, workers=4)\n",
    "spam_vocab = list(spam_model.wv.index_to_key)\n",
    "print(spam_vocab[:100])\n"
   ]
  },
  {
   "cell_type": "code",
   "execution_count": 33,
   "metadata": {},
   "outputs": [
    {
     "name": "stdout",
     "output_type": "stream",
     "text": [
      "['enron', 'email', 'would', 'subject', 'please', 'power', 'pm', 'energy', 'company', 'new', 'may', 'said', 'time', 'market', 'gas', 'price', 'know', 'need', 'you', 'get', 'sent', 'one', 'also', 'day', 'information', 'state', 'year', 'service', 'deal', 'john', 'call', 'week', 'mark', 'forwarded', 'business', 'pmto', 'california', 'original', 'like', 'j', 'let', 'agreement', 'contract', 'meeting', 'message', 'messagefrom', 'could', 'change', 'group', 'last', 'make', 'see', 'issue', 'report', 'cc', 'question', 'amto', 'david', 'xfolder', 'work', 'corp', 'rate', 'want', 'system', 'use', 'trading', 'million', 'date', 'jeff', 'utility', 'bill', 'two', 'customer', 'well', 'number', 'go', 'think', 'take', 'plan', 'contact', 'today', 'image', 'attached', 'next', 'houston', 'back', 'first', 'l', 'credit', 'monday', 'right', 'cost', 'friday', 'mike', 'michael', 'month', 'order', 'dont', 'c', 'going']\n"
     ]
    }
   ],
   "source": [
    "normal_sentences = [text.split() for text in normal_texts]\n",
    "\n",
    "normal_model = Word2Vec(normal_sentences, vector_size=100, window=5, min_count=1, workers=4)\n",
    "normal_vocab = list(normal_model.wv.index_to_key)\n",
    "print(normal_vocab[:100])"
   ]
  },
  {
   "cell_type": "code",
   "execution_count": 36,
   "metadata": {},
   "outputs": [
    {
     "name": "stdout",
     "output_type": "stream",
     "text": [
      "Spams: 100\n",
      "['access', 'account', 'address', 'amount', 'bank', 'best', 'business', 'canada', 'cautious', 'click', 'confirm', 'contact', 'customer', 'date', 'day', 'dear', 'delivery', 'detail', 'document', 'due', 'email', 'file', 'full', 'fund', 'get', 'good', 'hello', 'help', 'hi', 'hour', 'id', 'information', 'invoice', 'keep', 'kindly', 'know', 'link', 'mail', 'mailbox', 'may', 'message', 'money', 'mr', 'name', 'need', 'new', 'note', 'notice', 'notification', 'number', 'order', 'outlook', 'outside', 'package', 'parcel', 'password', 'payment', 'please', 'pm', 'privacy', 'receive', 'received', 'regard', 'reply', 'request', 'required', 'reserved', 'review', 'right', 'security', 'send', 'sensitive', 'sent', 'server', 'service', 'spam', 'support', 'suspected', 'system', 'take', 'team', 'thank', 'thanks', 'time', 'transaction', 'united', 'university', 'update', 'upgrade', 'ups', 'use', 'uvic', 'uvicca', 'victoria', 'want', 'within', 'work', 'would', 'year', 'you']\n",
      "\n",
      " Normals: 500\n",
      "['able', 'access', 'account', 'action', 'activity', 'addition', 'additional', 'address', 'agreement', 'already', 'also', 'america', 'american', 'amount', 'amto', 'analyst', 'another', 'anything', 'application', 'approval', 'april', 'are', 'area', 'around', 'asked', 'asset', 'attached', 'august', 'available', 'back', 'bank', 'based', 'basis', 'believe', 'best', 'better', 'big', 'bill', 'billion', 'board', 'bob', 'book', 'business', 'buy', 'ca', 'california', 'call', 'capacity', 'capital', 'case', 'cash', 'cc', 'center', 'chairman', 'change', 'charge', 'charsetusasciicontenttransferencoding', 'check', 'chief', 'chris', 'city', 'click', 'close', 'co', 'come', 'comment', 'commission', 'committee', 'communication', 'company', 'complete', 'concern', 'conference', 'confidential', 'consumer', 'contact', 'contenttype', 'continue', 'contract', 'control', 'copy', 'corp', 'corporate', 'cost', 'could', 'court', 'credit', 'current', 'currently', 'customer', 'daily', 'dan', 'data', 'date', 'david', 'davis', 'day', 'deal', 'december', 'decision', 'delivery', 'demand', 'department', 'desk', 'detail', 'development', 'direct', 'director', 'discus', 'discussion', 'distribution', 'document', 'done', 'dont', 'dow', 'draft', 'due', 'early', 'eb', 'edison', 'effort', 'either', 'electric', 'electricity', 'email', 'employee', 'ena', 'end', 'energy', 'enron', 'enrons', 'entity', 'eric', 'error', 'even', 'event', 'every', 'exchange', 'executive', 'expected', 'facility', 'fax', 'february', 'federal', 'feel', 'ferc', 'file', 'final', 'financial', 'find', 'firm', 'first', 'following', 'form', 'forward', 'forwarded', 'found', 'frank', 'free', 'friday', 'full', 'fund', 'future', 'fw', 'game', 'gas', 'general', 'generation', 'generator', 'george', 'get', 'getting', 'give', 'given', 'global', 'go', 'going', 'good', 'got', 'government', 'governor', 'great', 'greg', 'group', 'help', 'high', 'home', 'hope', 'hour', 'house', 'houston', 'however', 'id', 'ill', 'im', 'image', 'impact', 'important', 'inc', 'include', 'including', 'increase', 'individual', 'industry', 'information', 'intended', 'interest', 'international', 'internet', 'investment', 'investor', 'iso', 'issue', 'james', 'jan', 'january', 'jeff', 'jeffrey', 'jennifer', 'jim', 'job', 'joe', 'john', 'jones', 'july', 'june', 'karen', 'kay', 'keep', 'ken', 'kevin', 'know', 'larry', 'last', 'later', 'law', 'lay', 'le', 'legal', 'let', 'letter', 'level', 'like', 'linda', 'line', 'link', 'lisa', 'list', 'little', 'london', 'long', 'look', 'looking', 'made', 'mail', 'make', 'management', 'many', 'march', 'mark', 'market', 'marketing', 'mary', 'master', 'may', 'meet', 'meeting', 'member', 'message', 'messagefrom', 'michael', 'might', 'mike', 'million', 'mimeversion', 'monday', 'money', 'month', 'morning', 'move', 'mr', 'much', 'must', 'name', 'natural', 'need', 'network', 'new', 'news', 'next', 'night', 'north', 'note', 'notice', 'november', 'number', 'october', 'offer', 'office', 'official', 'oil', 'one', 'online', 'open', 'operation', 'opportunity', 'option', 'order', 'original', 'page', 'part', 'party', 'past', 'paul', 'pay', 'payment', 'people', 'per', 'percent', 'period', 'person', 'peter', 'pge', 'phone', 'pipeline', 'place', 'plan', 'plant', 'please', 'pm', 'pmto', 'point', 'policy', 'position', 'possible', 'power', 'presentation', 'president', 'price', 'prior', 'problem', 'process', 'product', 'program', 'project', 'proposal', 'proposed', 'provide', 'provided', 'public', 'purchase', 'put', 'question', 'rate', 'really', 'receive', 'received', 'recipient', 'regarding', 'regulatory', 'report', 'request', 'required', 'research', 'resource', 'response', 'result', 'return', 'review', 'richard', 'rick', 'right', 'risk', 'robert', 'rule', 'run', 'said', 'sale', 'san', 'sara', 'sat', 'say', 'schedule', 'scheduled', 'scott', 'second', 'section', 'security', 'see', 'sell', 'send', 'sent', 'september', 'service', 'set', 'several', 'shall', 'share', 'short', 'show', 'since', 'site', 'smith', 'soon', 'source', 'special', 'st', 'staff', 'standard', 'start', 'state', 'steve', 'steven', 'still', 'stock', 'street', 'subject', 'summer', 'supply', 'support', 'sure', 'susan', 'system', 'take', 'talk', 'tax', 'taylor', 'team', 'technology', 'term', 'texas', 'textplain', 'th', 'thank', 'thanks', 'thing', 'think', 'thomas', 'thought', 'three', 'thru', 'thursday', 'tim', 'time', 'today', 'told', 'tom', 'tomorrow', 'top', 'total', 'trade', 'trader', 'trading', 'transaction', 'transmission', 'try', 'tuesday', 'two', 'unit', 'update', 'updated', 'use', 'used', 'user', 'using', 'utility', 'value', 'version', 'via', 'view', 'vince', 'visit', 'volume', 'want', 'way', 'web', 'wednesday', 'week', 'well', 'west', 'whether', 'wholesale', 'william', 'williams', 'within', 'without', 'work', 'working', 'world', 'would', 'xbcc', 'xcc', 'xfolder', 'xorigin', 'xto', 'year', 'yesterday', 'yet', 'york', 'you']\n"
     ]
    }
   ],
   "source": [
    "spams = []\n",
    "normals = []\n",
    "for word in spam_names:\n",
    "    if word in spam_vocab: spams.append(word)\n",
    "\n",
    "for word in feature_names:\n",
    "    if word in normal_vocab: normals.append(word)\n",
    "\n",
    "print('Spams:', len(spams))\n",
    "print(spams)\n",
    "print('\\n Normals:', len(normals))\n",
    "print(normals)"
   ]
  }
 ],
 "metadata": {
  "kernelspec": {
   "display_name": "base",
   "language": "python",
   "name": "python3"
  },
  "language_info": {
   "codemirror_mode": {
    "name": "ipython",
    "version": 3
   },
   "file_extension": ".py",
   "mimetype": "text/x-python",
   "name": "python",
   "nbconvert_exporter": "python",
   "pygments_lexer": "ipython3",
   "version": "3.11.7"
  }
 },
 "nbformat": 4,
 "nbformat_minor": 2
}
