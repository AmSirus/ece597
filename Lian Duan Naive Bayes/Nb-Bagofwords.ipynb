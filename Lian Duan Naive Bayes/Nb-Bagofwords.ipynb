{
 "cells": [
  {
   "cell_type": "code",
   "execution_count": 2,
   "id": "66e8cdeb-ab02-42cb-99ec-e60814d35de4",
   "metadata": {},
   "outputs": [
    {
     "name": "stdout",
     "output_type": "stream",
     "text": [
      "Text Features:\n",
      "0                                                  forecast\n",
      "1         traveling business meeting take fun trip espec...\n",
      "2                               test test successful way go\n",
      "3         randy send schedule salary level everyone sche...\n",
      "4                                   hello let shoot tuesday\n",
      "                                ...                        \n",
      "519972    update needed inbox message pending get delete...\n",
      "519973    update needed inbox message pending get delete...\n",
      "519974    staffemployee staffemployee covid vaccine test...\n",
      "519975    notification update notice message sent outsid...\n",
      "519976    accountalert apiupgrade esteem user officially...\n",
      "Name: Text, Length: 519977, dtype: object\n",
      "\n",
      "Target (Result):\n",
      "0         0\n",
      "1         0\n",
      "2         0\n",
      "3         0\n",
      "4         0\n",
      "         ..\n",
      "519972    1\n",
      "519973    1\n",
      "519974    1\n",
      "519975    1\n",
      "519976    1\n",
      "Name: Result, Length: 519977, dtype: int64\n"
     ]
    }
   ],
   "source": [
    "import pandas as pd\n",
    "from sklearn.model_selection import train_test_split, GridSearchCV\n",
    "from sklearn.naive_bayes import MultinomialNB\n",
    "from sklearn.metrics import classification_report, confusion_matrix, roc_auc_score\n",
    "from imblearn.over_sampling import SMOTE\n",
    "from sklearn.feature_extraction.text import CountVectorizer, TfidfVectorizer\n",
    "from sklearn.pipeline import Pipeline\n",
    "# 指定文件路径\n",
    "file_path = '/Users/apple/Downloads/final_df.csv'\n",
    "\n",
    "data = pd.read_csv(file_path)\n",
    "X = data['Text']\n",
    "y = data['Result']\n",
    "\n",
    "print(\"Text Features:\")\n",
    "print(X)\n",
    "print(\"\\nTarget (Result):\")\n",
    "print(y)"
   ]
  },
  {
   "cell_type": "code",
   "execution_count": 6,
   "id": "26d3c9e2-ef83-48d8-979a-2999ee7a41a8",
   "metadata": {},
   "outputs": [
    {
     "name": "stdout",
     "output_type": "stream",
     "text": [
      "Text      1057\n",
      "Result       0\n",
      "dtype: int64\n"
     ]
    }
   ],
   "source": [
    "import pandas as pd\n",
    "from sklearn.model_selection import train_test_split, GridSearchCV\n",
    "from sklearn.naive_bayes import MultinomialNB\n",
    "from sklearn.metrics import classification_report, confusion_matrix, roc_auc_score\n",
    "from imblearn.over_sampling import SMOTE\n",
    "from sklearn.feature_extraction.text import CountVectorizer, TfidfVectorizer\n",
    "from sklearn.pipeline import Pipeline\n",
    "file_path = '/Users/apple/Downloads/final_df.csv'\n",
    "data = pd.read_csv(file_path)\n",
    "print(data.isnull().sum())\n"
   ]
  },
  {
   "cell_type": "code",
   "execution_count": null,
   "id": "d02a50ff-3e4f-412e-bf1e-6385ebbd2dda",
   "metadata": {},
   "outputs": [],
   "source": [
    " data = data.dropna()"
   ]
  },
  {
   "cell_type": "code",
   "execution_count": 15,
   "id": "de7bbc9a-8282-47dd-9e85-a0c680f2836e",
   "metadata": {},
   "outputs": [],
   "source": [
    "texts = data['Text']\n",
    "labels = data['Result']"
   ]
  },
  {
   "cell_type": "code",
   "execution_count": 22,
   "id": "7a8e67c4-5c61-4c32-85a2-236d997f32c2",
   "metadata": {},
   "outputs": [],
   "source": [
    "X_train, X_test, y_train, y_test = train_test_split(X, labels, test_size=0.2, random_state=42)"
   ]
  },
  {
   "cell_type": "code",
   "execution_count": 33,
   "id": "f8d603a9-eb0f-499c-ac38-f1fd6a6c4de8",
   "metadata": {},
   "outputs": [
    {
     "name": "stdout",
     "output_type": "stream",
     "text": [
      "Accuracy: 0.9739509211892765\n",
      "AUC: 0.984578009050554\n",
      "Classification Report:\n",
      "              precision    recall  f1-score   support\n",
      "\n",
      "           0       1.00      0.97      0.99    103459\n",
      "           1       0.14      0.82      0.24       537\n",
      "\n",
      "    accuracy                           0.97    103996\n",
      "   macro avg       0.57      0.90      0.62    103996\n",
      "weighted avg       0.99      0.97      0.98    103996\n",
      "\n"
     ]
    }
   ],
   "source": [
    "import joblib\n",
    "from sklearn.metrics import classification_report, accuracy_score, confusion_matrix, roc_curve, auc, precision_score, recall_score, ConfusionMatrixDisplay\n",
    "from sklearn.metrics import accuracy_score, classification_report\n",
    "# 处理空值\n",
    "X_train.fillna('', inplace=True)\n",
    "X_test.fillna('', inplace=True)\n",
    "\n",
    "# 文本向量化（使用 Bag of Words 向量化器）\n",
    "vectorizer = CountVectorizer(max_features=1000)\n",
    "X_train_bow = vectorizer.fit_transform(X_train)\n",
    "X_test_bow = vectorizer.transform(X_test)\n",
    "\n",
    "# 训练朴素贝叶斯模型\n",
    "model = MultinomialNB()\n",
    "model.fit(X_train_bow, y_train)\n",
    "\n",
    "# 保存模型和向量化器\n",
    "joblib.dump(model, 'my_model.pkl')\n",
    "joblib.dump(vectorizer, 'vectorizer.pkl')\n",
    "\n",
    "# 加载保存的模型和向量化器\n",
    "loaded_model = joblib.load('my_model.pkl')\n",
    "loaded_vectorizer = joblib.load('vectorizer.pkl')\n",
    "\n",
    "# 使用加载的向量化器转换测试数据\n",
    "X_test_bow = loaded_vectorizer.transform(X_test)\n",
    "\n",
    "# 进行预测\n",
    "y_pred = loaded_model.predict(X_test_bow)\n",
    "y_pred_prob = loaded_model.predict_proba(X_test_bow)[:, 1]  # 对于二分类，获取阳性类的概率\n",
    "\n",
    "# 计算准确率\n",
    "accuracy = accuracy_score(y_test, y_pred)\n",
    "print(f'Accuracy: {accuracy}')\n",
    "\n",
    "# 计算AUC\n",
    "auc = roc_auc_score(y_test, y_pred_prob)\n",
    "print(f'AUC: {auc}')\n",
    "\n",
    "# 输出分类报告\n",
    "print('Classification Report:')\n",
    "print(classification_report(y_test, y_pred))"
   ]
  },
  {
   "cell_type": "code",
   "execution_count": null,
   "id": "292bc747-ee61-45c7-a993-c3b8a61e5b84",
   "metadata": {},
   "outputs": [],
   "source": []
  },
  {
   "cell_type": "code",
   "execution_count": null,
   "id": "c96e40f9-1d89-4910-b0b5-2358fa10f6d0",
   "metadata": {},
   "outputs": [],
   "source": []
  }
 ],
 "metadata": {
  "kernelspec": {
   "display_name": "Python 3 (ipykernel)",
   "language": "python",
   "name": "python3"
  },
  "language_info": {
   "codemirror_mode": {
    "name": "ipython",
    "version": 3
   },
   "file_extension": ".py",
   "mimetype": "text/x-python",
   "name": "python",
   "nbconvert_exporter": "python",
   "pygments_lexer": "ipython3",
   "version": "3.12.4"
  }
 },
 "nbformat": 4,
 "nbformat_minor": 5
}
