{
 "cells": [
  {
   "cell_type": "code",
   "execution_count": 31,
   "metadata": {},
   "outputs": [],
   "source": [
    "import numpy as np\n",
    "import pandas as pd\n",
    "import matplotlib.pyplot as plt\n",
    "%matplotlib inline"
   ]
  },
  {
   "cell_type": "markdown",
   "metadata": {},
   "source": [
    "## 1. Data Info"
   ]
  },
  {
   "cell_type": "code",
   "execution_count": 32,
   "metadata": {},
   "outputs": [],
   "source": [
    "df = pd.read_csv(r'D:\\Downloads\\597-data\\emails.csv')\n",
    "df2 = pd.read_csv(r'D:\\Downloads\\597-data\\CaptstoneProjectData_2024.csv')"
   ]
  },
  {
   "cell_type": "code",
   "execution_count": 33,
   "metadata": {},
   "outputs": [
    {
     "name": "stdout",
     "output_type": "stream",
     "text": [
      "                       file                                            message\n",
      "0     allen-p/_sent_mail/1.  Message-ID: <18782981.1075855378110.JavaMail.e...\n",
      "1    allen-p/_sent_mail/10.  Message-ID: <15464986.1075855378456.JavaMail.e...\n",
      "2   allen-p/_sent_mail/100.  Message-ID: <24216240.1075855687451.JavaMail.e...\n",
      "3  allen-p/_sent_mail/1000.  Message-ID: <13505866.1075863688222.JavaMail.e...\n",
      "4  allen-p/_sent_mail/1001.  Message-ID: <30922949.1075863688243.JavaMail.e...\n",
      "\n",
      "\n",
      "<class 'pandas.core.frame.DataFrame'>\n",
      "RangeIndex: 517401 entries, 0 to 517400\n",
      "Data columns (total 2 columns):\n",
      " #   Column   Non-Null Count   Dtype \n",
      "---  ------   --------------   ----- \n",
      " 0   file     517401 non-null  object\n",
      " 1   message  517401 non-null  object\n",
      "dtypes: object(2)\n",
      "memory usage: 7.9+ MB\n",
      "None\n",
      "\n",
      "\n",
      "Message-ID: <20641191.1075855687472.JavaMail.evans@thyme>\n",
      "Date: Tue, 17 Oct 2000 02:26:00 -0700 (PDT)\n",
      "From: phillip.allen@enron.com\n",
      "To: mark.scott@enron.com\n",
      "Subject: Re: High Speed Internet Access\n",
      "Mime-Version: 1.0\n",
      "Content-Type: text/plain; charset=us-ascii\n",
      "Content-Transfer-Encoding: 7bit\n",
      "X-From: Phillip K Allen\n",
      "X-To: Mark Scott\n",
      "X-cc: \n",
      "X-bcc: \n",
      "X-Folder: \\Phillip_Allen_Dec2000\\Notes Folders\\'sent mail\n",
      "X-Origin: Allen-P\n",
      "X-FileName: pallen.nsf\n",
      "\n",
      "1. login:  pallen pw: ke9davis\n",
      "\n",
      " I don't think these are required by the ISP \n",
      "\n",
      "  2.  static IP address\n",
      "\n",
      " IP: 64.216.90.105\n",
      " Sub: 255.255.255.248\n",
      " gate: 64.216.90.110\n",
      " DNS: 151.164.1.8\n",
      "\n",
      "  3.  Company: 0413\n",
      "        RC:  105891\n"
     ]
    }
   ],
   "source": [
    "print(df.head())\n",
    "print(\"\\n\")\n",
    "print(df.info())\n",
    "print(\"\\n\")\n",
    "print(df['message'][8])"
   ]
  },
  {
   "cell_type": "code",
   "execution_count": 34,
   "metadata": {},
   "outputs": [
    {
     "name": "stdout",
     "output_type": "stream",
     "text": [
      "                                             Subject  \\\n",
      "0  ®Review your shipment details / Shipment Notif...   \n",
      "1                            Υоur ассоunt іѕ оn hоld   \n",
      "2  Completed: Invoice # KZ89TYS2564 from-Bestbuy....   \n",
      "3                             UVic IMPORTANT NOTICE!   \n",
      "4          You have (6) Suspended incoming messages    \n",
      "\n",
      "                                                Body  Unnamed: 2  Unnamed: 3  \n",
      "0  Notice: This message was sent from outside the...         NaN         NaN  \n",
      "1  \\r\\nVotre réponse a bien été prise en compte.\\...         NaN         NaN  \n",
      "2  Notice: This message was sent from outside the...         NaN         NaN  \n",
      "3  Your UVIC account has been filed under the lis...         NaN         NaN  \n",
      "4  \\r\\n\\r\\nMessage generated from  uvic.ca source...         NaN         NaN  \n",
      "\n",
      "\n",
      "<class 'pandas.core.frame.DataFrame'>\n",
      "RangeIndex: 2576 entries, 0 to 2575\n",
      "Data columns (total 4 columns):\n",
      " #   Column      Non-Null Count  Dtype  \n",
      "---  ------      --------------  -----  \n",
      " 0   Subject     2467 non-null   object \n",
      " 1   Body        2571 non-null   object \n",
      " 2   Unnamed: 2  0 non-null      float64\n",
      " 3   Unnamed: 3  0 non-null      float64\n",
      "dtypes: float64(2), object(2)\n",
      "memory usage: 80.6+ KB\n",
      "None\n",
      "\n",
      "\n",
      "Notice: This message was sent from outside the University of Victoria email system. Please be cautious with links and sensitive information.\n",
      "\n",
      "\n",
      "        [DocuSign]\n",
      "[https://NA4.docusign.net/member/Images/email/docComplete-white.png]\n",
      "Your document has been completed\n",
      "VIEW COMPLETED DOCUMENT <https://na4.docusign.net/Member/EmailStart.aspx?a=4fc2b481-9617-4897-a2a7-6e39e96782bb&r=fd808229-1992-4c80-9c45-867cb0f02252>\n",
      "\n",
      "\n",
      "\n",
      "Best Buy\n",
      "auwaluu.ma.r.bu.ba@googlemail.com\n",
      "\n",
      "All parties have completed Invoice # KZ89TYS2564 from-Bestbuy.com &#43;1.813.776.1410.\n",
      "\n",
      "Dear Customer,\n",
      "\n",
      "Your invoice for 359.99 USD is attached towards renewal of 3 years Subscription.\n",
      "\n",
      "Customer Service for the USA &amp; Canada &#43;1.813.776.1410\n",
      "\n",
      "My Best Buy Total™ - 2 Years Membership (Amount: 359.99 USD, Quantity: 1)\n",
      "Total: $359.99\n",
      "\n",
      "Thank you for your business - we appreciate it very much.\n",
      "\n",
      "Sincerely,\n",
      "Bestbuy.com &#43;1.813.776.1410\n",
      "\n",
      "Do Not Share This Email\n",
      "This email contains a secure link to DocuSign. Please do not share this email, link, or access code with others.\n",
      "\n",
      "\n",
      "Alternate Signing Method\n",
      "Visit DocuSign.com, click 'Access Documents', and enter the security code:\n",
      "4FC2B48196174897A2A76E39E96782BB7\n",
      "\n",
      "About DocuSign\n",
      "Sign documents electronically in just minutes. It's safe, secure, and legally binding. Whether you're in an office, at home, on-the-go -- or even across the globe -- DocuSign provides a professional trusted solution for Digital Transaction Management™.\n",
      "\n",
      "Questions about the Document?\n",
      "If you need to modify the document or have questions about the details in the document, please reach out to the sender by emailing them directly.\n",
      "\n",
      "Stop receiving this email\n",
      "Report this email<https://protect.docusign.net/report-abuse?e=AUtomjpFak9GlbPL0zFFi11e-C-KUkbeAbMM9_pqiE2usDQPhD2jQokWruW1tvo4iAD5IHZnQRcWK1ejZoI49AdjLk_lCwNTkycJk678JUxEJBkU2f3zdzJCndBCewAsuC3TNot22FLpVH15D-Ko0LV6rT8MFffP8NGayX63xM8WjL7Te7pzA4Amb3vfKiSLGucp9JslArKxMNf739ZLrp8C1XMBQ9hFtp_U1eZVrqize9DB13NQETOx8on7ft5Urj-KnPBVaWQXyjGJO72A5agakaJUIIqU5NCgwqwwIVhguHE4tfyAgmVIajkIHNEnLRdFpANPUWlmJUF9XUTVm4MdYGkGvPGeRozBoysyHROgjDB1gLbwh9zEGllDPb1Wz_rfaXI84iyZrjwKr7bLQP1htJqZQbtlnOT8INY8jb2GyRd1yifnImunVeD88vNCRg&lang=en> or read more about Declining to sign<https://support.docusign.com/en/guides/Declining-to-sign-DocuSign-Signer-Guide> and Managing notifications<https://support.docusign.com/en/articles/How-do-I-manage-my-email-notifications>.\n",
      "\n",
      "If you are having trouble signing the document, please visit the Help with Signing<https://support.docusign.com/s/articles/How-do-I-sign-a-DocuSign-document-Basic-Signing?language=en_US&utm_campaign=GBL_XX_DBU_UPS_2211_SignNotificationEmailFooter&utm_medium=product&utm_source=postsend> page on our Support Center<https://www.docusign.com/support>.\n",
      "\n",
      "\n",
      "\n",
      "[https://NA4.docusign.net/Member/Images/email/icon-DownloadApp-18x18@2x.png]Download the DocuSign App <https://www.docusign.com/features-and-benefits/mobile?utm_campaign=GBL_XX_DBU_UPS_2211_SignNotificationEmailFooter&utm_medium=product&utm_source=postsend>\n",
      "\n",
      "This message was sent to you by Best Buy who is using the DocuSign Electronic Signature Service. If you would rather not receive email from this sender you may contact the sender with your request.\n",
      "\n",
      "\n"
     ]
    }
   ],
   "source": [
    "print(df2.head())\n",
    "print(\"\\n\")\n",
    "print(df2.info())\n",
    "print(\"\\n\")\n",
    "print(df2['Body'][2])"
   ]
  },
  {
   "cell_type": "markdown",
   "metadata": {},
   "source": [
    "## 2. Data Cleaning\n",
    "After the comparison, only the body and subject of the normal mail datasets should be retained."
   ]
  },
  {
   "cell_type": "code",
   "execution_count": 35,
   "metadata": {},
   "outputs": [],
   "source": [
    "def get_message(Series: pd.Series):\n",
    "    result = pd.Series(index=Series.index)\n",
    "    for row, message in enumerate(Series):\n",
    "        message_words = message.split('\\n')\n",
    "        del message_words[:15]\n",
    "        result.iloc[row] = ''.join(message_words).strip()\n",
    "    return result\n",
    "\n",
    "def get_subject(Series: pd.Series):\n",
    "    result = pd.Series(index = Series.index)\n",
    "    for row, message in enumerate(Series):\n",
    "        message_words = message.split('\\n')\n",
    "        message_words = message_words[4]\n",
    "        result[row] = message_words.replace('Subject: ', '')\n",
    "    return result"
   ]
  },
  {
   "cell_type": "code",
   "execution_count": 36,
   "metadata": {},
   "outputs": [
    {
     "name": "stderr",
     "output_type": "stream",
     "text": [
      "C:\\Users\\cruel\\AppData\\Local\\Temp\\ipykernel_8644\\1745844638.py:14: FutureWarning: Setting an item of incompatible dtype is deprecated and will raise in a future error of pandas. Value '' has dtype incompatible with float64, please explicitly cast to a compatible dtype first.\n",
      "  result[row] = message_words.replace('Subject: ', '')\n",
      "C:\\Users\\cruel\\AppData\\Local\\Temp\\ipykernel_8644\\1745844638.py:6: FutureWarning: Setting an item of incompatible dtype is deprecated and will raise in a future error of pandas. Value 'Here is our forecast' has dtype incompatible with float64, please explicitly cast to a compatible dtype first.\n",
      "  result.iloc[row] = ''.join(message_words).strip()\n"
     ]
    },
    {
     "ename": "KeyboardInterrupt",
     "evalue": "",
     "output_type": "error",
     "traceback": [
      "\u001b[1;31m---------------------------------------------------------------------------\u001b[0m",
      "\u001b[1;31mKeyboardInterrupt\u001b[0m                         Traceback (most recent call last)",
      "Cell \u001b[1;32mIn[36], line 2\u001b[0m\n\u001b[0;32m      1\u001b[0m df[\u001b[38;5;124m'\u001b[39m\u001b[38;5;124mSubject\u001b[39m\u001b[38;5;124m'\u001b[39m] \u001b[38;5;241m=\u001b[39m get_subject(df\u001b[38;5;241m.\u001b[39mmessage)\n\u001b[1;32m----> 2\u001b[0m df[\u001b[38;5;124m'\u001b[39m\u001b[38;5;124mBody\u001b[39m\u001b[38;5;124m'\u001b[39m] \u001b[38;5;241m=\u001b[39m get_message(df\u001b[38;5;241m.\u001b[39mmessage)\n",
      "Cell \u001b[1;32mIn[35], line 6\u001b[0m, in \u001b[0;36mget_message\u001b[1;34m(Series)\u001b[0m\n\u001b[0;32m      4\u001b[0m     message_words \u001b[38;5;241m=\u001b[39m message\u001b[38;5;241m.\u001b[39msplit(\u001b[38;5;124m'\u001b[39m\u001b[38;5;130;01m\\n\u001b[39;00m\u001b[38;5;124m'\u001b[39m)\n\u001b[0;32m      5\u001b[0m     \u001b[38;5;28;01mdel\u001b[39;00m message_words[:\u001b[38;5;241m15\u001b[39m]\n\u001b[1;32m----> 6\u001b[0m     result\u001b[38;5;241m.\u001b[39miloc[row] \u001b[38;5;241m=\u001b[39m \u001b[38;5;124m'\u001b[39m\u001b[38;5;124m'\u001b[39m\u001b[38;5;241m.\u001b[39mjoin(message_words)\u001b[38;5;241m.\u001b[39mstrip()\n\u001b[0;32m      7\u001b[0m \u001b[38;5;28;01mreturn\u001b[39;00m result\n",
      "File \u001b[1;32md:\\Anaconda3\\Lib\\site-packages\\pandas\\core\\indexing.py:885\u001b[0m, in \u001b[0;36m_LocationIndexer.__setitem__\u001b[1;34m(self, key, value)\u001b[0m\n\u001b[0;32m    882\u001b[0m \u001b[38;5;28mself\u001b[39m\u001b[38;5;241m.\u001b[39m_has_valid_setitem_indexer(key)\n\u001b[0;32m    884\u001b[0m iloc \u001b[38;5;241m=\u001b[39m \u001b[38;5;28mself\u001b[39m \u001b[38;5;28;01mif\u001b[39;00m \u001b[38;5;28mself\u001b[39m\u001b[38;5;241m.\u001b[39mname \u001b[38;5;241m==\u001b[39m \u001b[38;5;124m\"\u001b[39m\u001b[38;5;124miloc\u001b[39m\u001b[38;5;124m\"\u001b[39m \u001b[38;5;28;01melse\u001b[39;00m \u001b[38;5;28mself\u001b[39m\u001b[38;5;241m.\u001b[39mobj\u001b[38;5;241m.\u001b[39miloc\n\u001b[1;32m--> 885\u001b[0m iloc\u001b[38;5;241m.\u001b[39m_setitem_with_indexer(indexer, value, \u001b[38;5;28mself\u001b[39m\u001b[38;5;241m.\u001b[39mname)\n",
      "File \u001b[1;32md:\\Anaconda3\\Lib\\site-packages\\pandas\\core\\indexing.py:1895\u001b[0m, in \u001b[0;36m_iLocIndexer._setitem_with_indexer\u001b[1;34m(self, indexer, value, name)\u001b[0m\n\u001b[0;32m   1893\u001b[0m     \u001b[38;5;28mself\u001b[39m\u001b[38;5;241m.\u001b[39m_setitem_with_indexer_split_path(indexer, value, name)\n\u001b[0;32m   1894\u001b[0m \u001b[38;5;28;01melse\u001b[39;00m:\n\u001b[1;32m-> 1895\u001b[0m     \u001b[38;5;28mself\u001b[39m\u001b[38;5;241m.\u001b[39m_setitem_single_block(indexer, value, name)\n",
      "File \u001b[1;32md:\\Anaconda3\\Lib\\site-packages\\pandas\\core\\indexing.py:2138\u001b[0m, in \u001b[0;36m_iLocIndexer._setitem_single_block\u001b[1;34m(self, indexer, value, name)\u001b[0m\n\u001b[0;32m   2135\u001b[0m \u001b[38;5;28mself\u001b[39m\u001b[38;5;241m.\u001b[39mobj\u001b[38;5;241m.\u001b[39m_check_is_chained_assignment_possible()\n\u001b[0;32m   2137\u001b[0m \u001b[38;5;66;03m# actually do the set\u001b[39;00m\n\u001b[1;32m-> 2138\u001b[0m \u001b[38;5;28mself\u001b[39m\u001b[38;5;241m.\u001b[39mobj\u001b[38;5;241m.\u001b[39m_mgr \u001b[38;5;241m=\u001b[39m \u001b[38;5;28mself\u001b[39m\u001b[38;5;241m.\u001b[39mobj\u001b[38;5;241m.\u001b[39m_mgr\u001b[38;5;241m.\u001b[39msetitem(indexer\u001b[38;5;241m=\u001b[39mindexer, value\u001b[38;5;241m=\u001b[39mvalue)\n\u001b[0;32m   2139\u001b[0m \u001b[38;5;28mself\u001b[39m\u001b[38;5;241m.\u001b[39mobj\u001b[38;5;241m.\u001b[39m_maybe_update_cacher(clear\u001b[38;5;241m=\u001b[39m\u001b[38;5;28;01mTrue\u001b[39;00m, inplace\u001b[38;5;241m=\u001b[39m\u001b[38;5;28;01mTrue\u001b[39;00m)\n",
      "File \u001b[1;32md:\\Anaconda3\\Lib\\site-packages\\pandas\\core\\internals\\managers.py:399\u001b[0m, in \u001b[0;36mBaseBlockManager.setitem\u001b[1;34m(self, indexer, value)\u001b[0m\n\u001b[0;32m    395\u001b[0m     \u001b[38;5;66;03m# No need to split if we either set all columns or on a single block\u001b[39;00m\n\u001b[0;32m    396\u001b[0m     \u001b[38;5;66;03m# manager\u001b[39;00m\n\u001b[0;32m    397\u001b[0m     \u001b[38;5;28mself\u001b[39m \u001b[38;5;241m=\u001b[39m \u001b[38;5;28mself\u001b[39m\u001b[38;5;241m.\u001b[39mcopy()\n\u001b[1;32m--> 399\u001b[0m \u001b[38;5;28;01mreturn\u001b[39;00m \u001b[38;5;28mself\u001b[39m\u001b[38;5;241m.\u001b[39mapply(\u001b[38;5;124m\"\u001b[39m\u001b[38;5;124msetitem\u001b[39m\u001b[38;5;124m\"\u001b[39m, indexer\u001b[38;5;241m=\u001b[39mindexer, value\u001b[38;5;241m=\u001b[39mvalue)\n",
      "File \u001b[1;32md:\\Anaconda3\\Lib\\site-packages\\pandas\\core\\internals\\managers.py:354\u001b[0m, in \u001b[0;36mBaseBlockManager.apply\u001b[1;34m(self, f, align_keys, **kwargs)\u001b[0m\n\u001b[0;32m    352\u001b[0m         applied \u001b[38;5;241m=\u001b[39m b\u001b[38;5;241m.\u001b[39mapply(f, \u001b[38;5;241m*\u001b[39m\u001b[38;5;241m*\u001b[39mkwargs)\n\u001b[0;32m    353\u001b[0m     \u001b[38;5;28;01melse\u001b[39;00m:\n\u001b[1;32m--> 354\u001b[0m         applied \u001b[38;5;241m=\u001b[39m \u001b[38;5;28mgetattr\u001b[39m(b, f)(\u001b[38;5;241m*\u001b[39m\u001b[38;5;241m*\u001b[39mkwargs)\n\u001b[0;32m    355\u001b[0m     result_blocks \u001b[38;5;241m=\u001b[39m extend_blocks(applied, result_blocks)\n\u001b[0;32m    357\u001b[0m out \u001b[38;5;241m=\u001b[39m \u001b[38;5;28mtype\u001b[39m(\u001b[38;5;28mself\u001b[39m)\u001b[38;5;241m.\u001b[39mfrom_blocks(result_blocks, \u001b[38;5;28mself\u001b[39m\u001b[38;5;241m.\u001b[39maxes)\n",
      "\u001b[1;31mKeyboardInterrupt\u001b[0m: "
     ]
    }
   ],
   "source": [
    "df['Subject'] = get_subject(df.message)\n",
    "df['Body'] = get_message(df.message)\n"
   ]
  },
  {
   "cell_type": "code",
   "execution_count": null,
   "metadata": {},
   "outputs": [
    {
     "name": "stdout",
     "output_type": "stream",
     "text": [
      "     Subject                                               Body\n",
      "0                                          Here is our forecast\n",
      "1        Re:  Traveling to have a business meeting takes the...\n",
      "2   Re: test                     test successful.  way to go!!!\n",
      "3             Randy, Can you send me a schedule of the salar...\n",
      "4  Re: Hello                  Let's shoot for Tuesday at 11:45.\n"
     ]
    }
   ],
   "source": [
    "df = df.drop(['message', 'file'], axis = 1)\n",
    "print(df.head(5))"
   ]
  },
  {
   "cell_type": "code",
   "execution_count": null,
   "metadata": {},
   "outputs": [
    {
     "name": "stdout",
     "output_type": "stream",
     "text": [
      "                                             Subject  \\\n",
      "0  ®Review your shipment details / Shipment Notif...   \n",
      "1                            Υоur ассоunt іѕ оn hоld   \n",
      "2  Completed: Invoice # KZ89TYS2564 from-Bestbuy....   \n",
      "3                             UVic IMPORTANT NOTICE!   \n",
      "4          You have (6) Suspended incoming messages    \n",
      "\n",
      "                                                Body  \n",
      "0  Notice: This message was sent from outside the...  \n",
      "1  \\r\\nVotre réponse a bien été prise en compte.\\...  \n",
      "2  Notice: This message was sent from outside the...  \n",
      "3  Your UVIC account has been filed under the lis...  \n",
      "4  \\r\\n\\r\\nMessage generated from  uvic.ca source...  \n"
     ]
    }
   ],
   "source": [
    "df2 = df2.drop(['Unnamed: 2', 'Unnamed: 3'], axis = 1)\n",
    "print(df2.head(5))"
   ]
  },
  {
   "cell_type": "code",
   "execution_count": null,
   "metadata": {},
   "outputs": [
    {
     "name": "stdout",
     "output_type": "stream",
     "text": [
      "     Subject                                               Body  Result\n",
      "0                                          Here is our forecast       0\n",
      "1        Re:  Traveling to have a business meeting takes the...       0\n",
      "2   Re: test                     test successful.  way to go!!!       0\n",
      "3             Randy, Can you send me a schedule of the salar...       0\n",
      "4  Re: Hello                  Let's shoot for Tuesday at 11:45.       0\n",
      "                                             Subject  \\\n",
      "0  ®Review your shipment details / Shipment Notif...   \n",
      "1                            Υоur ассоunt іѕ оn hоld   \n",
      "2  Completed: Invoice # KZ89TYS2564 from-Bestbuy....   \n",
      "3                             UVic IMPORTANT NOTICE!   \n",
      "4          You have (6) Suspended incoming messages    \n",
      "\n",
      "                                                Body  Result  \n",
      "0  Notice: This message was sent from outside the...       1  \n",
      "1  \\r\\nVotre réponse a bien été prise en compte.\\...       1  \n",
      "2  Notice: This message was sent from outside the...       1  \n",
      "3  Your UVIC account has been filed under the lis...       1  \n",
      "4  \\r\\n\\r\\nMessage generated from  uvic.ca source...       1  \n"
     ]
    }
   ],
   "source": [
    "df['Result'] = 0\n",
    "df2['Result'] = 1\n",
    "print(df.head(5))\n",
    "print(df2.head(5))"
   ]
  },
  {
   "cell_type": "code",
   "execution_count": null,
   "metadata": {},
   "outputs": [
    {
     "name": "stdout",
     "output_type": "stream",
     "text": [
      "                                                  Subject  \\\n",
      "0                                                           \n",
      "1                                                     Re:   \n",
      "2                                                Re: test   \n",
      "3                                                           \n",
      "4                                               Re: Hello   \n",
      "...                                                   ...   \n",
      "519972  Update needed (5) inbox messages Pending befor...   \n",
      "519973  Update needed (5) inbox messages Pending befor...   \n",
      "519974                            Re: All Staff/Employee,   \n",
      "519975                                Notification Update   \n",
      "519976                         Account_Alert! API_upgrade   \n",
      "\n",
      "                                                     Body  Result  \n",
      "0                                    Here is our forecast       0  \n",
      "1       Traveling to have a business meeting takes the...       0  \n",
      "2                          test successful.  way to go!!!       0  \n",
      "3       Randy, Can you send me a schedule of the salar...       0  \n",
      "4                       Let's shoot for Tuesday at 11:45.       0  \n",
      "...                                                   ...     ...  \n",
      "519972  \\r\\n\\r\\n\\r\\n\\r\\n\\r\\n\\r\\nlawfa@uvic.ca\\r\\n\\r\\nP...       1  \n",
      "519973  \\r\\n\\r\\n\\r\\n\\r\\n\\r\\n\\r\\nlawfa@uvic.ca\\r\\n\\r\\nP...       1  \n",
      "519974  \\r\\nAll Staff/Employee,\\r\\n\\r\\n\\r\\n\\r\\nAs COVI...       1  \n",
      "519975  Notice: This message was sent from outside the...       1  \n",
      "519976  Esteem User,\\r\\n\\r\\n\\r\\nWe have officially lau...       1  \n",
      "\n",
      "[519977 rows x 3 columns]\n"
     ]
    }
   ],
   "source": [
    "merged_df = pd.concat([df, df2], ignore_index=True)\n",
    "print(merged_df)"
   ]
  },
  {
   "cell_type": "code",
   "execution_count": null,
   "metadata": {},
   "outputs": [
    {
     "name": "stderr",
     "output_type": "stream",
     "text": [
      "[nltk_data] Downloading package punkt to\n",
      "[nltk_data]     C:\\Users\\cruel\\AppData\\Roaming\\nltk_data...\n",
      "[nltk_data]   Package punkt is already up-to-date!\n",
      "[nltk_data] Downloading package stopwords to\n",
      "[nltk_data]     C:\\Users\\cruel\\AppData\\Roaming\\nltk_data...\n",
      "[nltk_data]   Package stopwords is already up-to-date!\n",
      "[nltk_data] Downloading package wordnet to\n",
      "[nltk_data]     C:\\Users\\cruel\\AppData\\Roaming\\nltk_data...\n",
      "[nltk_data]   Package wordnet is already up-to-date!\n"
     ]
    },
    {
     "data": {
      "text/plain": [
       "True"
      ]
     },
     "execution_count": 27,
     "metadata": {},
     "output_type": "execute_result"
    }
   ],
   "source": [
    "import nltk\n",
    "nltk.download('punkt')\n",
    "nltk.download('stopwords')\n",
    "nltk.download('wordnet')"
   ]
  },
  {
   "cell_type": "code",
   "execution_count": null,
   "metadata": {},
   "outputs": [],
   "source": [
    "import re\n",
    "from nltk.corpus import stopwords\n",
    "from nltk.stem import WordNetLemmatizer\n",
    "from nltk.tokenize import word_tokenize\n",
    "\n",
    "def clean_text(text):\n",
    "    if isinstance(text, str):  # Check if text is a string\n",
    "        text = text.lower()  # Convert to lowercase\n",
    "        text = re.sub(r'<[^>]+>', ' ', text)  # Remove HTML tags\n",
    "        text = re.sub(r'http\\S+|www\\S+|https\\S+', '', text, flags=re.MULTILINE)  # Remove URLs\n",
    "        text = re.sub(r'\\b[A-Za-z0-9._%+-]+@[A-Za-z0-9.-]+\\.[A-Z|a-z]{2,}\\b', '', text)  # Remove email addresses\n",
    "        text = re.sub(r'[^a-z\\s]', '', text)  # Remove special characters and punctuation\n",
    "        text = re.sub(r'(.)\\1{2,}', r'\\1', text)  # Remove repeated characters\n",
    "        tokens = word_tokenize(text)\n",
    "        tokens = [word for word in tokens if word not in stopwords.words('english')]  # Remove stopwords\n",
    "        \n",
    "        lemmatizer = WordNetLemmatizer()\n",
    "        tokens = [lemmatizer.lemmatize(word) for word in tokens]  # Lemmatization\n",
    "        \n",
    "        # Example of normalizing common abbreviations (expand this list as needed)\n",
    "        abbreviations = {\"u\": \"you\", \"r\": \"are\", \"btw\": \"by the way\"}\n",
    "        tokens = [abbreviations.get(word, word) for word in tokens]  # Normalize abbreviations\n",
    "        \n",
    "        return ' '.join(tokens)\n",
    "    else:\n",
    "        return ''\n"
   ]
  },
  {
   "cell_type": "code",
   "execution_count": null,
   "metadata": {},
   "outputs": [
    {
     "name": "stderr",
     "output_type": "stream",
     "text": [
      "Cleaning Text: 100%|██████████| 519977/519977 [11:45:07<00:00, 12.29it/s]   \n"
     ]
    }
   ],
   "source": [
    "from tqdm import tqdm\n",
    "\n",
    "merged_df['Text'] = merged_df['Subject'] + ' ' + merged_df['Body']\n",
    "tqdm.pandas(desc=\"Cleaning Text\")\n",
    "test_df = merged_df['Text'].progress_apply(clean_text)"
   ]
  },
  {
   "cell_type": "code",
   "execution_count": 45,
   "metadata": {},
   "outputs": [
    {
     "data": {
      "text/html": [
       "<div>\n",
       "<style scoped>\n",
       "    .dataframe tbody tr th:only-of-type {\n",
       "        vertical-align: middle;\n",
       "    }\n",
       "\n",
       "    .dataframe tbody tr th {\n",
       "        vertical-align: top;\n",
       "    }\n",
       "\n",
       "    .dataframe thead th {\n",
       "        text-align: right;\n",
       "    }\n",
       "</style>\n",
       "<table border=\"1\" class=\"dataframe\">\n",
       "  <thead>\n",
       "    <tr style=\"text-align: right;\">\n",
       "      <th></th>\n",
       "      <th>Text</th>\n",
       "      <th>Result</th>\n",
       "    </tr>\n",
       "  </thead>\n",
       "  <tbody>\n",
       "    <tr>\n",
       "      <th>0</th>\n",
       "      <td>forecast</td>\n",
       "      <td>0</td>\n",
       "    </tr>\n",
       "    <tr>\n",
       "      <th>1</th>\n",
       "      <td>traveling business meeting take fun trip espec...</td>\n",
       "      <td>0</td>\n",
       "    </tr>\n",
       "    <tr>\n",
       "      <th>2</th>\n",
       "      <td>test test successful way go</td>\n",
       "      <td>0</td>\n",
       "    </tr>\n",
       "    <tr>\n",
       "      <th>3</th>\n",
       "      <td>randy send schedule salary level everyone sche...</td>\n",
       "      <td>0</td>\n",
       "    </tr>\n",
       "    <tr>\n",
       "      <th>4</th>\n",
       "      <td>hello let shoot tuesday</td>\n",
       "      <td>0</td>\n",
       "    </tr>\n",
       "  </tbody>\n",
       "</table>\n",
       "</div>"
      ],
      "text/plain": [
       "                                                Text  Result\n",
       "0                                           forecast       0\n",
       "1  traveling business meeting take fun trip espec...       0\n",
       "2                        test test successful way go       0\n",
       "3  randy send schedule salary level everyone sche...       0\n",
       "4                            hello let shoot tuesday       0"
      ]
     },
     "execution_count": 45,
     "metadata": {},
     "output_type": "execute_result"
    }
   ],
   "source": [
    "final_df = pd.DataFrame(test_df[:-1], columns=['Text'])\n",
    "final_df['Result'] = merged_df['Result'].values\n",
    "final_df.head()\n"
   ]
  },
  {
   "cell_type": "code",
   "execution_count": 46,
   "metadata": {},
   "outputs": [],
   "source": [
    "csv_path = r'D:\\Downloads\\597-data\\final_df.csv'\n",
    "final_df.to_csv(csv_path, index=False)"
   ]
  }
 ],
 "metadata": {
  "kernelspec": {
   "display_name": "base",
   "language": "python",
   "name": "python3"
  },
  "language_info": {
   "codemirror_mode": {
    "name": "ipython",
    "version": 3
   },
   "file_extension": ".py",
   "mimetype": "text/x-python",
   "name": "python",
   "nbconvert_exporter": "python",
   "pygments_lexer": "ipython3",
   "version": "3.11.7"
  }
 },
 "nbformat": 4,
 "nbformat_minor": 2
}
